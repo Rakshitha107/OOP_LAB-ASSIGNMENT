{
  "nbformat": 4,
  "nbformat_minor": 0,
  "metadata": {
    "colab": {
      "name": "Rakshitha_20bCS107_OOPTask1.ipynb",
      "provenance": [],
      "authorship_tag": "ABX9TyNz+rWdfhueSZr8Uhv1hn0h",
      "include_colab_link": true
    },
    "kernelspec": {
      "name": "python3",
      "display_name": "Python 3"
    },
    "language_info": {
      "name": "python"
    }
  },
  "cells": [
    {
      "cell_type": "markdown",
      "metadata": {
        "id": "view-in-github",
        "colab_type": "text"
      },
      "source": [
        "<a href=\"https://colab.research.google.com/github/Rakshitha107/OOP_LAB-ASSIGNMENT-1/blob/main/Rakshitha_20bCS107_OOPTask1.ipynb\" target=\"_parent\"><img src=\"https://colab.research.google.com/assets/colab-badge.svg\" alt=\"Open In Colab\"/></a>"
      ]
    },
    {
      "cell_type": "markdown",
      "metadata": {
        "id": "TK8AZbMnCPfi"
      },
      "source": [
        "Problem-I\n",
        "An extra day is added to the calendar almost every four years as February 29, and the day is\n",
        "called a leap day. It corrects the calendar for the fact that our planet takes approximately 365.25\n",
        "days to orbit the sun. A leap year contains a leap day.\n",
        "In the Gregorian calendar, three conditions are used to identify leap years:\n",
        "1. The year can be evenly divided by 4, is a leap year, unless:\n",
        "2. The year can be evenly divided by 100, it is NOT a leap year, unless:\n",
        "3. The year is also evenly divisible by 400. Then it is a leap year.\n",
        "Write function to decide whether it is a leap year. If it is a leap year, return the Boolean True,\n",
        "otherwise return False."
      ]
    },
    {
      "cell_type": "code",
      "metadata": {
        "colab": {
          "base_uri": "https://localhost:8080/"
        },
        "id": "cOsmAEdsCycD",
        "outputId": "59af62bc-8abb-406c-c608-5eee62881d98"
      },
      "source": [
        "def is_leap(year):\n",
        "    leap = False\n",
        "    \n",
        "    # Write your logic here\n",
        "    if (year % 400 == 0):\n",
        "        return True\n",
        "    if (year % 100 == 0):\n",
        "        return leap\n",
        "    if (year % 4 == 0):\n",
        "        return True\n",
        "    else:\n",
        "        return False  \n",
        "    \n",
        "    return leap\n",
        "year = int(input())\n",
        "print(is_leap(year))\n"
      ],
      "execution_count": null,
      "outputs": [
        {
          "output_type": "stream",
          "name": "stdout",
          "text": [
            "6785\n",
            "False\n"
          ]
        }
      ]
    },
    {
      "cell_type": "markdown",
      "metadata": {
        "id": "D2QrQatLEKX1"
      },
      "source": [
        "Problem-II\n",
        "Given an integer ‘n’, write a python code to perform the following conditional actions:\n",
        "1. If ‘n’ is odd, print Weird\n",
        "2. If ‘n’ is even and in the inclusive range of 2 to 5, print Not Weird\n",
        "3. If ‘n’ is even and in the inclusive range of 6 to 20, print Weird\n",
        "4. If ‘n’ is even and greater than 20, print Not Weird"
      ]
    },
    {
      "cell_type": "code",
      "metadata": {
        "colab": {
          "base_uri": "https://localhost:8080/"
        },
        "id": "6CIRrMzFEXQI",
        "outputId": "8895dd8e-10cb-420f-a59c-975f7c7a0231"
      },
      "source": [
        "n = int(input())\n",
        "if n % 2 == 1:\n",
        "    print(\"Weird\")\n",
        "elif n % 2 == 0 and 2 <= n <= 5:\n",
        "    print(\"Not Weird\")\n",
        "elif n % 2 == 0 and 6 <= n <= 20:\n",
        "    print(\"Weird\")\n",
        "elif n>20:\n",
        "    print(\"Not Weird\")"
      ],
      "execution_count": null,
      "outputs": [
        {
          "output_type": "stream",
          "name": "stdout",
          "text": [
            "18\n",
            "Weird\n"
          ]
        }
      ]
    },
    {
      "cell_type": "markdown",
      "metadata": {
        "id": "YhyIwdj9vLiA"
      },
      "source": [
        "Problem-III\n",
        "The following list represents a party with 7 guests, in which ‘Hardik’ showed up first and\n",
        "‘Rahane’ was the last to arrive:\n",
        "Arrivals = [&#39;Hardik&#39;, &#39;Rahul&#39;, &#39;Virat&#39;, &#39;Rishabh’, ‘Mahi’ &#39;Rohit&#39;, &#39;Rahane&#39;]\n",
        "A guest is considered &#39;fashionably late&#39; if they arrived after at least half of the party&#39;s guests.\n",
        "However, they must not be the very last guest (that&#39;s taking it too far). In the above example,\n",
        "‘rishabh’, ‘Mahi’ and ‘Rohit’ are the only guests who were fashionably late.\n",
        "Write the function which takes a list of party attendees as well as a person, and tells us whether\n",
        "that person is fashionably late."
      ]
    },
    {
      "cell_type": "code",
      "metadata": {
        "colab": {
          "base_uri": "https://localhost:8080/"
        },
        "id": "QJPhoFSfvleM",
        "outputId": "38c45481-5ffc-4676-c06f-cab969322f67"
      },
      "source": [
        "n = int(input(\"Enter the number of Guests: \"))\n",
        "guests = []\n",
        "\n",
        "for i in range(0, n):\n",
        "  name = str(input(\"Enter the name of Guests: \"))\n",
        "  guests.append(name)\n",
        "print(\"Guests are: \", guests)\n",
        "if(n%2==0):\n",
        "  for k in range( int((n)/2) , n-1):\n",
        "    print(\"\\nFashionable late persons are: \", guests[k])\n",
        "elif(n%2 != 0):\n",
        "  for k in range( int((n-1)/2) , n-1):\n",
        "    print(\"\\nFashionable late persons are: \", guests[k])"
      ],
      "execution_count": 1,
      "outputs": [
        {
          "output_type": "stream",
          "name": "stdout",
          "text": [
            "Enter the number of Guests: 7\n",
            "Enter the name of Guests: hardik\n",
            "Enter the name of Guests: rahul\n",
            "Enter the name of Guests: virat\n",
            "Enter the name of Guests: rishabh\n",
            "Enter the name of Guests: mahi\n",
            "Enter the name of Guests: rohit\n",
            "Enter the name of Guests: rahane\n",
            "Guests are:  ['hardik', 'rahul', 'virat', 'rishabh', 'mahi', 'rohit', 'rahane']\n",
            "\n",
            "Fashionable late persons are:  rishabh\n",
            "\n",
            "Fashionable late persons are:  mahi\n",
            "\n",
            "Fashionable late persons are:  rohit\n"
          ]
        }
      ]
    },
    {
      "cell_type": "markdown",
      "metadata": {
        "id": "QXJwUuTywLc3"
      },
      "source": [
        "Problem-IV\n",
        "A researcher has gathered thousands of news articles. But she wants to focus her attention on\n",
        "articles including a specific word. Write a function to help her filter her list of articles.\n",
        "Your function should meet the following criteria:\n",
        "1. Do not include documents where the keyword string shows up only as a part of a larger\n",
        "word. For example, if she were looking for the keyword “closed”, you would not include\n",
        "the string “enclosed.”\n",
        "2. She does not want you to distinguish upper case from lower case letters. So the phrase\n",
        "“Closed the case.” would be included when the keyword is “closed”\n",
        "3. Do not let periods or commas affect what is matched. “It is closed.” would be included\n",
        "when the keyword is “closed”. But you can assume there are no other types of\n",
        "punctuation.\n",
        "Assume, doc_list = [&quot;The Learn Python Challenge Rohit.&quot;, &quot;They bought a car&quot;, &quot;bangalore&quot;]"
      ]
    },
    {
      "cell_type": "code",
      "metadata": {
        "colab": {
          "base_uri": "https://localhost:8080/"
        },
        "id": "UYKHOX0Twc6I",
        "outputId": "7c9c8c15-db2e-4707-d2ef-0f937b5b9a0c"
      },
      "source": [
        "def search_for_keyword(doc_list, keyword):\n",
        "  req_list = []\n",
        "  for doc in doc_list:\n",
        "    duplicate = doc\n",
        "    duplicate.replace(',','')\n",
        "    duplicate.replace('.','')\n",
        "    duplicate_list = duplicate.split()\n",
        "    for word in duplicate_list:\n",
        "      if word.lower() == keyword.lower():\n",
        "        req_list.append(doc)\n",
        "  \n",
        "  return req_list\n",
        "\n",
        "doc_list = [\"The Learn Python Challenge Rohit\", \"They bought a car\", \"bangalore\"]\n",
        "\n",
        "keyword = input('Enter the keyword: ')\n",
        "req_list= search_for_keyword(doc_list, keyword)\n",
        "print(req_list)\n",
        "\n",
        "keyword = input('Enter the keyword: ')\n",
        "req_list = search_for_keyword(doc_list, keyword)\n",
        "print(req_list)\n",
        "\n",
        "keyword = input('Enter the keyword: ')\n",
        "req_list = search_for_keyword(doc_list, keyword)\n",
        "print(req_list)"
      ],
      "execution_count": 22,
      "outputs": [
        {
          "output_type": "stream",
          "name": "stdout",
          "text": [
            "Enter the keyword: challenge\n",
            "['The Learn Python Challenge Rohit']\n",
            "Enter the keyword: bought\n",
            "['They bought a car']\n",
            "Enter the keyword: bangalore\n",
            "['bangalore']\n"
          ]
        }
      ]
    },
    {
      "cell_type": "markdown",
      "metadata": {
        "id": "jyPo0uWt0omm"
      },
      "source": [
        "Problem-V\n",
        "An Employee&#39;s Basic Pay (BP) is to be read from user. DA is 40% of BP, HRA is 20% of BP,\n",
        "and write a function to calculate the Gross Pay (GP) GP is computed as BP + DA + HRA."
      ]
    },
    {
      "cell_type": "code",
      "metadata": {
        "colab": {
          "base_uri": "https://localhost:8080/"
        },
        "id": "No0dFXJb0zsu",
        "outputId": "5ffc3765-7c54-4670-99c6-aab397e91add"
      },
      "source": [
        "def grossPay(BP):\n",
        "  DA = (40*BP)/100\n",
        "  GRA = (20*BP)/100\n",
        "  return BP+DA+GRA\n",
        "BP = int(input(\"Enter your basic pay: \"))\n",
        "print(\"Gross pay is: {0}\".format(grossPay(BP)))"
      ],
      "execution_count": 2,
      "outputs": [
        {
          "output_type": "stream",
          "name": "stdout",
          "text": [
            "Enter your basic pay: 746\n",
            "Gross pay is: 1193.6000000000001\n"
          ]
        }
      ]
    }
  ]
}