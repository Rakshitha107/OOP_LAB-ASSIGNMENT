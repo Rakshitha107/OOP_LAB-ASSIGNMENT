{
  "nbformat": 4,
  "nbformat_minor": 0,
  "metadata": {
    "colab": {
      "name": "Rakshitha_20BCS107_OOPTask-2.ipynb",
      "provenance": [],
      "collapsed_sections": [],
      "authorship_tag": "ABX9TyPm/FxRyrHmj305+kbjvchK",
      "include_colab_link": true
    },
    "kernelspec": {
      "name": "python3",
      "display_name": "Python 3"
    },
    "language_info": {
      "name": "python"
    }
  },
  "cells": [
    {
      "cell_type": "markdown",
      "metadata": {
        "id": "view-in-github",
        "colab_type": "text"
      },
      "source": [
        "<a href=\"https://colab.research.google.com/github/Rakshitha107/OOP_LAB-ASSIGNMENT/blob/main/Rakshitha_20BCS107_OOPTask_2.ipynb\" target=\"_parent\"><img src=\"https://colab.research.google.com/assets/colab-badge.svg\" alt=\"Open In Colab\"/></a>"
      ]
    },
    {
      "cell_type": "code",
      "metadata": {
        "colab": {
          "base_uri": "https://localhost:8080/"
        },
        "id": "kzsQ2SUzHJ6w",
        "outputId": "eb9ad42a-081d-45ae-868b-9a4ed05273e9"
      },
      "source": [
        "#problem-1\n",
        "class Circle():\n",
        "    def __init__(self, r):\n",
        "        self.radius = r\n",
        "\n",
        "    def area(self):\n",
        "        return self.radius**2*3.14\n",
        "    \n",
        "    def perimeter(self):\n",
        "        return 2*self.radius*3.14\n",
        "\n",
        "NewCircle = Circle(8)\n",
        "print(NewCircle.area())\n",
        "print(NewCircle.perimeter())"
      ],
      "execution_count": 5,
      "outputs": [
        {
          "output_type": "stream",
          "name": "stdout",
          "text": [
            "200.96\n",
            "50.24\n"
          ]
        }
      ]
    },
    {
      "cell_type": "code",
      "metadata": {
        "id": "FjPtoiArKmTA",
        "colab": {
          "base_uri": "https://localhost:8080/"
        },
        "outputId": "3a98536d-ae92-4249-dde1-b349d715e912"
      },
      "source": [
        "#problem-2\n",
        "class faculty:\n",
        "\n",
        "  def __init__(self, name, emp_ID, branch, salary):\n",
        "    self.name=name\n",
        "    self.emp_ID=emp_ID\n",
        "    self.branch=branch\n",
        "    self.salary=salary\n",
        "\n",
        "fac1 = faculty('faculty1', '19bds075', 'dsai', 30000)\n",
        "fac2 = faculty('faculty2', '20bcs002', 'cse', 8000)\n",
        "fac3 = faculty('faculty3', '18bec003', 'ece', 40000)\n",
        "fac4 = faculty('faculty4', '20bcs124', 'cse', 12000)\n",
        "fac5 = faculty('faculty5', '20bec045', 'ece', 11000)\n",
        "\n",
        "def display():\n",
        "  l1=[fac1, fac2, fac3, fac4, fac5]\n",
        "  for x in l1:\n",
        "    print(x.__dict__)\n",
        "\n",
        "display()"
      ],
      "execution_count": null,
      "outputs": [
        {
          "output_type": "stream",
          "name": "stdout",
          "text": [
            "{'name': 'faculty1', 'emp_ID': '19bds075', 'branch': 'dsai', 'salary': 30000}\n",
            "{'name': 'faculty2', 'emp_ID': '20bcs002', 'branch': 'cse', 'salary': 8000}\n",
            "{'name': 'faculty3', 'emp_ID': '18bec003', 'branch': 'ece', 'salary': 40000}\n",
            "{'name': 'faculty4', 'emp_ID': '20bcs124', 'branch': 'cse', 'salary': 12000}\n",
            "{'name': 'faculty5', 'emp_ID': '20bec045', 'branch': 'ece', 'salary': 11000}\n"
          ]
        }
      ]
    },
    {
      "cell_type": "code",
      "metadata": {
        "id": "YgH_ZuXqBepD",
        "colab": {
          "base_uri": "https://localhost:8080/"
        },
        "outputId": "33c5af0a-a22a-4a4e-b449-59166b558a61"
      },
      "source": [
        "#problem-3\n",
        "class Account:\n",
        "    def __init__(self, accNo, accHolder, amount):\n",
        "        self.accountNumber = accNo\n",
        "        self.accountHolder = accHolder\n",
        "        self.accountAmount = amount\n",
        "\n",
        "    def deposit(self):\n",
        "        depAmount = int(input(\"Enter the amount to deposit : \"))\n",
        "        self.accountAmount += depAmount\n",
        "        print(f\"Amount deposited : {depAmount} \\nNew Balance : {self.accountAmount}\")\n",
        "\n",
        "    def withdraw(self):\n",
        "        withAmount = int(input(\"Enter the amount to withdraw : \"))\n",
        "        if withAmount > self.accountAmount:\n",
        "            print(\"Cannot withdraw more than savings.\")\n",
        "            return -1\n",
        "        self.accountAmount -= withAmount\n",
        "        print(f\"Amount withdraw : {withAmount} \\nNew Balance = {self.accountAmount}\")\n",
        "        return withAmount\n",
        "\n",
        "    def checkBalance(self):\n",
        "        print(f\"Balance : {self.accountAmount}\")\n",
        "        return self.accountAmount\n",
        "\n",
        "    def getDetails(self):\n",
        "        print(f\"\\nAccount Number : {self.accountNumber} \\nAccount Holder : {self.accountHolder} \\nBalance : {self.accountAmount}\")\n",
        "        return self.accountNumber, self.accountHolder, self.accountAmount\n",
        "\n",
        "a1 = Account(345, \"JHON\", 50000)\n",
        "a1.deposit()\n",
        "withdraw = a1.withdraw()\n",
        "balance = a1.checkBalance()\n",
        "details = a1.getDetails()\n"
      ],
      "execution_count": 7,
      "outputs": [
        {
          "output_type": "stream",
          "name": "stdout",
          "text": [
            "Enter the amount to deposit : 50000\n",
            "Amount deposited : 50000 \n",
            "New Balance : 100000\n",
            "Enter the amount to withdraw : 30000\n",
            "Amount withdraw : 30000 \n",
            "New Balance = 70000\n",
            "Balance : 70000\n",
            "\n",
            "Account Number : 345 \n",
            "Account Holder : JHON \n",
            "Balance : 70000\n"
          ]
        }
      ]
    },
    {
      "cell_type": "code",
      "metadata": {
        "colab": {
          "base_uri": "https://localhost:8080/"
        },
        "id": "JUM-kJZADuPa",
        "outputId": "8063ebaa-4887-4024-82b4-3a9b8a2b461b"
      },
      "source": [
        "#problem-4\n",
        "class students:\n",
        "    count = 0\n",
        "    def __init__(self, name):\n",
        "        self.name = name\n",
        "        self.marks = []\n",
        "        students.count = students.count + 1\n",
        "        \n",
        "    def Marks(self):\n",
        "        for i in range(3):\n",
        "            m = int(input(\"Enter the marks of %s in %d subject: \"%(self.name, i+1)))\n",
        "            self.marks.append(m)\n",
        "            \n",
        "    def display_marks(self):\n",
        "      usn = (input(\"please enter your USN: \"))\n",
        "      print (self.name, \"got \", self.marks)\n",
        "      print(\"%s's USN is %s\"%(self.name,usn))\n",
        "             \n",
        "name = input(\"Enter the name of Student:\")\n",
        "s1 = students(name)\n",
        "s1.Marks()\n",
        "s1.display_marks()\n",
        "print (\"\\n\")\n",
        "name = input(\"Enter the name of Student:\")\n",
        "s2 = students(name)\n",
        "s2.Marks()\n",
        "s2.display_marks()\n",
        "print (\"\\n\")\n",
        "name = input(\"Enter the name of the Student:\")\n",
        "s3 = students(name)\n",
        "s3.Marks()\n",
        "s3.display_marks()"
      ],
      "execution_count": 2,
      "outputs": [
        {
          "output_type": "stream",
          "name": "stdout",
          "text": [
            "Enter the name of Student:abc\n",
            "Enter the marks of abc in 1 subject: 36\n",
            "Enter the marks of abc in 2 subject: 43\n",
            "Enter the marks of abc in 3 subject: 35\n",
            "please enter your USN: 20bcs035\n",
            "abc got  [36, 43, 35]\n",
            "abc's USN is 20bcs035\n",
            "\n",
            "\n",
            "Enter the name of Student:xyz\n",
            "Enter the marks of xyz in 1 subject: 49\n",
            "Enter the marks of xyz in 2 subject: 50\n",
            "Enter the marks of xyz in 3 subject: 48\n",
            "please enter your USN: 20bcs107\n",
            "xyz got  [49, 50, 48]\n",
            "xyz's USN is 20bcs107\n",
            "\n",
            "\n",
            "Enter the name of the Student:lmn\n",
            "Enter the marks of lmn in 1 subject: 45\n",
            "Enter the marks of lmn in 2 subject: 37\n",
            "Enter the marks of lmn in 3 subject: 26\n",
            "please enter your USN: 20bcs135\n",
            "lmn got  [45, 37, 26]\n",
            "lmn's USN is 20bcs135\n"
          ]
        }
      ]
    },
    {
      "cell_type": "code",
      "metadata": {
        "id": "l5n3sE4aFEmg",
        "colab": {
          "base_uri": "https://localhost:8080/"
        },
        "outputId": "77c706ec-f53b-45cd-82f2-87f0a952a3c1"
      },
      "source": [
        "#problem-5\n",
        "class Patient:\n",
        "  def __init__(self, name, admission_date, symptoms : list, oxy_level, discharge_date):\n",
        "    self.name = name\n",
        "    self.admission_date = admission_date\n",
        "    self.symptoms = symptoms\n",
        "    self.oxy_level = oxy_level\n",
        "    self.discharge_date = discharge_date\n",
        "\n",
        "class PatientData:\n",
        "  def __init__(self):\n",
        "    self.oxygen_support = []\n",
        "    self.general_ward = []\n",
        "\n",
        "  def addPatient(self, patient):\n",
        "    if (patient.oxy_level < 90):\n",
        "      self.oxygen_support.append(patient)\n",
        "    else:\n",
        "      self.general_ward.append(patient)\n",
        "\n",
        "  def numberOxygen(self):\n",
        "    print(f\"The number of patients needing oxygen support is {len(self.oxygen_support)}\")\n",
        "\n",
        "  def numberGeneral(self):\n",
        "    print(f\"The number of patients in general ward is {len(self.general_ward)}\")\n",
        "\n",
        "  def totalPatients(self):\n",
        "    print(f\"The number of patients is {len(self.general_ward)+len(self.oxygen_support)}\")\n",
        "\n",
        "  def patientInfo(self):\n",
        "    print(\"Patients in oxygen support\")\n",
        "    \n",
        "    for patient in self.oxygen_support:\n",
        "      \n",
        "      print(\"Name:\", patient.name)\n",
        "      print(\"Admission Date:\", patient.admission_date)\n",
        "      print(\"symptoms:\", patient.symptoms)\n",
        "      print(\"oxygen level:\", patient.oxy_level)\n",
        "      print(\"Discharge Date:\", patient.discharge_date)\n",
        "      \n",
        "\n",
        "    print(\"Patients in General ward\")\n",
        "    \n",
        "    for patient in self.general_ward:\n",
        "     \n",
        "      print(\"Name:\", patient.name)\n",
        "      print(\"Admission Date:\", patient.admission_date)\n",
        "      print(\"symptoms:\", patient.symptoms)\n",
        "      print(\"oxygen level:\", patient.oxy_level)\n",
        "      print(\"Discharge Date:\", patient.discharge_date)\n",
        "      \n",
        "\n",
        "p1 = Patient(\"John\", \"20/05/2021\", [\"Anxiety\", \"Fatigue\"], 47, \"29/05/2021\")\n",
        "p2 = Patient(\"Jenny\", \"17/09/2021\", [\"Fever\", \"Nausea\"], 176, \"30/09/2021\")\n",
        "\n",
        "db = PatientData()\n",
        "db.addPatient(p1)\n",
        "db.addPatient(p2)\n",
        "db.patientInfo()\n",
        "db.numberOxygen()\n",
        "db.numberGeneral()\n",
        "db.totalPatients()\n",
        "\n"
      ],
      "execution_count": 9,
      "outputs": [
        {
          "output_type": "stream",
          "name": "stdout",
          "text": [
            "Patients in oxygen support\n",
            "Name: John\n",
            "Admission Date: 20/05/2021\n",
            "symptoms: ['Anxiety', 'Fatigue']\n",
            "oxygen level: 47\n",
            "Discharge Date: 29/05/2021\n",
            "Patients in General ward\n",
            "Name: Jenny\n",
            "Admission Date: 17/09/2021\n",
            "symptoms: ['Fever', 'Nausea']\n",
            "oxygen level: 176\n",
            "Discharge Date: 30/09/2021\n",
            "The number of patients needing oxygen support is 1\n",
            "The number of patients in general ward is 1\n",
            "The number of patients is 2\n"
          ]
        }
      ]
    },
    {
      "cell_type": "code",
      "metadata": {
        "colab": {
          "base_uri": "https://localhost:8080/"
        },
        "id": "EUyiVAN_FUpq",
        "outputId": "fc4ba620-2290-45f1-f71d-3e8230cbc8aa"
      },
      "source": [
        "#problem-6\n",
        "class time:\n",
        "  def __init__(self,hour,minute,second):\n",
        "    self.hour = hour\n",
        "    self.minute = minute\n",
        "    self.second = second\n",
        "\n",
        "  def disp_time(self):\n",
        "    print('Time is %2.0d:%2.0d:%2.0d' % (self.hour,self.minute,self.second))\n",
        "\n",
        "class time_default:\n",
        "  def __init__(self):\n",
        "    self.hour = 0\n",
        "    self.minute = 0\n",
        "    self.second = 0\n",
        "\n",
        "  def disp_time(self):\n",
        "    print('Time is %2.0d:%2.0d:%2.0d' % (self.hour,self.minute,self.second))\n",
        "\n",
        "t = time(13,23,12)\n",
        "t.disp_time()\n",
        "t_d = time_default()\n",
        "t_d.disp_time()"
      ],
      "execution_count": null,
      "outputs": [
        {
          "output_type": "stream",
          "name": "stdout",
          "text": [
            "Time is 13:23:12\n",
            "Time is  0: 0: 0\n"
          ]
        }
      ]
    },
    {
      "cell_type": "code",
      "metadata": {
        "colab": {
          "base_uri": "https://localhost:8080/"
        },
        "id": "HJtGgZ95FsyZ",
        "outputId": "177ccf70-b31a-421f-fb38-fe1d864796d3"
      },
      "source": [
        "#problem-7\n",
        "class student:\n",
        "\n",
        "  def __init__(self, name, age, roll_no):\n",
        "    self.name = name\n",
        "    self.age = age\n",
        "    self.roll_no = roll_no  \n",
        "\n",
        "student1 = student(\"rahul\", 21, 33)\n",
        "student2 = student(\"rohit\", 22, 74)  \n",
        "\n",
        "def compare():\n",
        "  if student1.age == student2.age:\n",
        "    print(\"the ages of two students are equal\")\n",
        "  else:\n",
        "    print(\"the ages are not equal\")\n",
        "\n",
        "compare()"
      ],
      "execution_count": null,
      "outputs": [
        {
          "output_type": "stream",
          "name": "stdout",
          "text": [
            "the ages are not equal\n"
          ]
        }
      ]
    },
    {
      "cell_type": "code",
      "metadata": {
        "id": "y_fde35fIC6z",
        "colab": {
          "base_uri": "https://localhost:8080/"
        },
        "outputId": "1e9c0570-a5d2-49e1-939e-5d8557caf318"
      },
      "source": [
        "#problem-8\n",
        "class Student:\n",
        "    sem = 3\n",
        "    institute = \"IIIT Dharwad\"\n",
        "    \n",
        "    def setData(self):\n",
        "        self.name = input(\"Enter the name of the student : \")\n",
        "        self.id = int(input(\"Enter the USN of student : \"))\n",
        "\n",
        "    def getInstanceData(self):\n",
        "        print(f\"Name : {self.name} \\nUSN = {self.id}\")\n",
        "\n",
        "    @classmethod\n",
        "    def getClassData(cls):\n",
        "        print(f\"Semester : {cls.sem} \\nInstitute : {cls.institute} \\n\")\n",
        "\n",
        "    @staticmethod\n",
        "    def getExplanation():\n",
        "        print(\"instance variables name and id printed using instance method and class variables sem and institute printed using class method\")\n",
        "\n",
        "\n",
        "s1 = Student()\n",
        "s1.setData()\n",
        "s1.getInstanceData()\n",
        "Student.getClassData()\n",
        "Student.getExplanation()\n"
      ],
      "execution_count": 4,
      "outputs": [
        {
          "output_type": "stream",
          "name": "stdout",
          "text": [
            "Enter the name of the student : rash\n",
            "Enter the USN of student : 107\n",
            "Name : rash \n",
            "USN = 107\n",
            "Semester : 3 \n",
            "Institute : IIIT Dharwad \n",
            "\n",
            "instance variables name and id printed using instance method and class variables sem and institute printed using class method\n"
          ]
        }
      ]
    },
    {
      "cell_type": "code",
      "metadata": {
        "id": "Nv_SVo2AIxpp",
        "colab": {
          "base_uri": "https://localhost:8080/"
        },
        "outputId": "b6e17875-11ed-4ac8-a63c-8a96ea856b69"
      },
      "source": [
        "#problem-9\n",
        "class Student:\n",
        "    def setData(self):\n",
        "        self.Name = input(\"Enter the name : \")\n",
        "        self.ID = int(input(\"Enter the Roll Number : \"))\n",
        "        self.sem = int(input(\"Enter the semester number : \"))\n",
        "        self.nLaptop = int(input(\"Enter the number of laptops : \"))\n",
        "        self.listLaptop = []\n",
        "        for i in range (0, self.nLaptop):\n",
        "            tempObj = self.Laptop()\n",
        "            self.listLaptop.append(tempObj)\n",
        "\n",
        "    class Laptop:\n",
        "        def __init__(self):\n",
        "            self.cpu = input(\"Enter the name of the CPU : \")\n",
        "            self.ram = input(\"Enter the RAM of the Laptop : \")\n",
        "            self.hardDisk = input(\"Enter the size of hard disk : \")\n",
        "            self.display = input(\"Enter the display resolution : \")\n",
        "        \n",
        "        def getData(self):\n",
        "            print(f\"\\nCPU : {self.cpu} \\nRAM : {self.ram} \\nHard Disk : {self.hardDisk} \\nDisplay Resolution : {self.display} \\n\")\n",
        "\n",
        "    def getData(self):\n",
        "        print(f\"\\nName : {self.Name} \\nUSN : {self.ID} \\nSemester : {self.sem} \\nNumber of Laptops : {self.nLaptop}\")\n",
        "        for i in range(0, self.nLaptop):\n",
        "            print(f\"Details of {i+1}th laptop : \")\n",
        "            self.listLaptop[i].getData()\n",
        "\n",
        "S1 = Student()\n",
        "S1.setData()\n",
        "S1.getData()\n"
      ],
      "execution_count": 6,
      "outputs": [
        {
          "output_type": "stream",
          "name": "stdout",
          "text": [
            "Enter the name : arun\n",
            "Enter the Roll Number : 36\n",
            "Enter the semester number : 3\n",
            "Enter the number of laptops : 1\n",
            "Enter the name of the CPU : i6\n",
            "Enter the RAM of the Laptop : 45\n",
            "Enter the size of hard disk : 1\n",
            "Enter the display resolution : 4850\n",
            "\n",
            "Name : arun \n",
            "USN : 36 \n",
            "Semester : 3 \n",
            "Number of Laptops : 1\n",
            "Details of 1th laptop : \n",
            "\n",
            "CPU : i6 \n",
            "RAM : 45 \n",
            "Hard Disk : 1 \n",
            "Display Resolution : 4850 \n",
            "\n"
          ]
        }
      ]
    }
  ]
}