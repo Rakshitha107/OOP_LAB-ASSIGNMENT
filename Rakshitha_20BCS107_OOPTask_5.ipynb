{
  "nbformat": 4,
  "nbformat_minor": 0,
  "metadata": {
    "colab": {
      "name": "Rakshitha_20BCS107_OOPTask_5",
      "provenance": [],
      "authorship_tag": "ABX9TyPIdhmHE39lU/LrYN7IQ7C/",
      "include_colab_link": true
    },
    "kernelspec": {
      "name": "python3",
      "display_name": "Python 3"
    },
    "language_info": {
      "name": "python"
    }
  },
  "cells": [
    {
      "cell_type": "markdown",
      "metadata": {
        "id": "view-in-github",
        "colab_type": "text"
      },
      "source": [
        "<a href=\"https://colab.research.google.com/github/Rakshitha107/OOP_LAB-ASSIGNMENT/blob/main/Rakshitha_20BCS107_OOPTask_5.ipynb\" target=\"_parent\"><img src=\"https://colab.research.google.com/assets/colab-badge.svg\" alt=\"Open In Colab\"/></a>"
      ]
    },
    {
      "cell_type": "code",
      "metadata": {
        "colab": {
          "base_uri": "https://localhost:8080/"
        },
        "id": "pV4mYCRH1SMQ",
        "outputId": "d461e96a-1918-48d0-af13-e50e3f63a8f2"
      },
      "source": [
        "#problem 1\n",
        "class shape():\n",
        "    def area():\n",
        "        pass\n",
        "\n",
        "class circle(shape):\n",
        "    def __init__(self,radius):\n",
        "        self.radius = radius\n",
        "    def area(self):\n",
        "        print(\"Area of cicle is: \",3.14*(self.radius**2))\n",
        "        \n",
        "class square(shape):\n",
        "    def __init__(self,side):\n",
        "        self.side = side\n",
        "    def area(self):\n",
        "        print(\"Area of square is: \",self.side**2)\n",
        "        \n",
        "class rectangle(shape):\n",
        "    def __init__(self,l,b):\n",
        "        self.l = l\n",
        "        self.b = b\n",
        "    def area(self):\n",
        "        print(\"Area of rectangle is: \",self.l*self.b)\n",
        "        \n",
        "s1 = circle(8)\n",
        "s1.area()\n",
        "s2 = square(4)\n",
        "s2.area()\n",
        "s3 = rectangle(2,7)\n",
        "s3.area()"
      ],
      "execution_count": 4,
      "outputs": [
        {
          "output_type": "stream",
          "name": "stdout",
          "text": [
            "Area of cicle is:  200.96\n",
            "Area of square is:  16\n",
            "Area of rectangle is:  14\n"
          ]
        }
      ]
    },
    {
      "cell_type": "code",
      "metadata": {
        "colab": {
          "base_uri": "https://localhost:8080/"
        },
        "id": "rxrNy0tO187Y",
        "outputId": "695b0b14-31f4-4e75-cdec-8c6b09eed224"
      },
      "source": [
        "#problem 2\n",
        "class Travel:\n",
        "    def __init__(self, passengers, distance, mode):\n",
        "        self.__passengers = passengers\n",
        "        self.distance = distance\n",
        "        self.mode = mode\n",
        "\n",
        "    def getPassengers(self):\n",
        "        return self.__passengers\n",
        "\n",
        "class Train(Travel):\n",
        "    def costOfTrip(self):\n",
        "        self.costPerPerson = 60\n",
        "        return (self.getPassengers() * self.costPerPerson)\n",
        "\n",
        "\n",
        "class Bus(Travel):\n",
        "    def costOfTrip(self):\n",
        "        self.costPerPerson = 100\n",
        "        return (self.getPassengers() * self.costPerPerson)\n",
        "\n",
        "\n",
        "t1 = Train(10, 80, \"Train\")\n",
        "print(f\"Cost of travelling by Train : {t1.costOfTrip()}\")\n",
        "\n",
        "b1 = Bus(10, 80, \"Bus\")\n",
        "print(f\"Cost of travelling by Bus : {b1.costOfTrip()}\")"
      ],
      "execution_count": 7,
      "outputs": [
        {
          "output_type": "stream",
          "name": "stdout",
          "text": [
            "Cost of travelling by Train : 600\n",
            "Cost of travelling by Bus : 1000\n"
          ]
        }
      ]
    },
    {
      "cell_type": "code",
      "metadata": {
        "colab": {
          "base_uri": "https://localhost:8080/"
        },
        "id": "nC6c_otp4Wa7",
        "outputId": "7f4ef691-780f-42b6-ba03-64529fb061e5"
      },
      "source": [
        "#problem 3\n",
        "class Car:\n",
        "    def __init__(self, modelNo):\n",
        "        self.modelNumber = modelNo\n",
        "\n",
        "c1 = Car('JUF465')\n",
        "c2 = Car('KLM193')\n",
        "\n",
        "print(f\"Before Swapping:\\nC1 Model Number {c1.modelNumber}\\nC2 Model Number {c2.modelNumber}\")\n",
        "c1.modelNumber, c2.modelNumber = c2.modelNumber, c1.modelNumber\n",
        "print(f\"\\nAfter Swapping:\\nC1 Model Number {c1.modelNumber}\\nC2 Model Number {c2.modelNumber}\")"
      ],
      "execution_count": 6,
      "outputs": [
        {
          "output_type": "stream",
          "name": "stdout",
          "text": [
            "Before Swapping:\n",
            "C1 Model Number JUF465\n",
            "C2 Model Number KLM193\n",
            "\n",
            "After Swapping:\n",
            "C1 Model Number KLM193\n",
            "C2 Model Number JUF465\n"
          ]
        }
      ]
    }
  ]
}