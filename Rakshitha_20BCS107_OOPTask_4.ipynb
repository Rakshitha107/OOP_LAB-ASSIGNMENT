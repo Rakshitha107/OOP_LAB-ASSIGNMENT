{
  "nbformat": 4,
  "nbformat_minor": 0,
  "metadata": {
    "colab": {
      "name": "Rakshitha_20BCS107_OOPTask_4.ipynb",
      "provenance": [],
      "authorship_tag": "ABX9TyO+enusWsQ3nCHMw/2WtkYc",
      "include_colab_link": true
    },
    "kernelspec": {
      "name": "python3",
      "display_name": "Python 3"
    },
    "language_info": {
      "name": "python"
    }
  },
  "cells": [
    {
      "cell_type": "markdown",
      "metadata": {
        "id": "view-in-github",
        "colab_type": "text"
      },
      "source": [
        "<a href=\"https://colab.research.google.com/github/Rakshitha107/OOP_LAB-ASSIGNMENT/blob/main/Rakshitha_20BCS107_OOPTask_4.ipynb\" target=\"_parent\"><img src=\"https://colab.research.google.com/assets/colab-badge.svg\" alt=\"Open In Colab\"/></a>"
      ]
    },
    {
      "cell_type": "code",
      "metadata": {
        "colab": {
          "base_uri": "https://localhost:8080/"
        },
        "id": "v2ZRMfgiKqeG",
        "outputId": "340b41c9-168b-40f0-ece0-311af50f0ea6"
      },
      "source": [
        "# problem 1\n",
        "class Node:\n",
        "    def __init__(self, val, next):\n",
        "        self.value = val\n",
        "        self.next = next\n",
        "\n",
        "    def __del__(self):\n",
        "        print(\"The Node with value\", self.value, \"deleted\")\n",
        "\n",
        "class Stack:\n",
        "    def __init__(self):\n",
        "        self.head = None\n",
        "        self.tail = self.head\n",
        "\n",
        "    def is_empty(self):\n",
        "        return self.head == None and self.tail == None\n",
        "\n",
        "    def push(self, val):\n",
        "        new_node = Node(val, None)\n",
        "        if self.is_empty():\n",
        "            self.head = new_node\n",
        "            self.tail = self.head\n",
        "        else:\n",
        "            self.tail.next = new_node\n",
        "            self.tail = self.tail.next\n",
        "\n",
        "    def pop(self):\n",
        "        iter = self.head\n",
        "        while True:\n",
        "            if iter.next != self.tail:\n",
        "                iter = iter.next\n",
        "            else:\n",
        "                break\n",
        "        val = iter.next.value\n",
        "        del iter.next\n",
        "        iter.next = None\n",
        "        self.tail = iter\n",
        "        return val\n",
        "\n",
        "\n",
        "    def disp(self):\n",
        "        iter = self.head\n",
        "        if not self.is_empty():\n",
        "            while iter!=None:\n",
        "                print(iter.value, end=\" \")\n",
        "                iter = iter.next\n",
        "        else:\n",
        "            print(\"Empty stack\")\n",
        "\n",
        "s = Stack()\n",
        "print(s.is_empty())\n",
        "s.push(18)\n",
        "print(s.is_empty())\n",
        "s.push(17)\n",
        "s.push(16)\n",
        "s.push(15)\n",
        "s.push(14)\n",
        "print(\"popping:\", s.pop())\n",
        "s.disp()"
      ],
      "execution_count": 8,
      "outputs": [
        {
          "output_type": "stream",
          "name": "stdout",
          "text": [
            "The Node with value 11 deleted\n",
            "The Node with value 12 deleted\n",
            "The Node with value 13 deleted\n",
            "The Node with value 14 deleted\n",
            "True\n",
            "False\n",
            "The Node with value 14 deleted\n",
            "popping: 14\n",
            "18 17 16 15 "
          ]
        }
      ]
    },
    {
      "cell_type": "code",
      "metadata": {
        "colab": {
          "base_uri": "https://localhost:8080/"
        },
        "id": "TmijR5gRK26f",
        "outputId": "8f91e608-5e94-4055-e4c7-a8e84d25eb23"
      },
      "source": [
        "#problem 2\n",
        "\n",
        "#using parametrized constructor\n",
        "class Rectangle():\n",
        "    def init(self, l, w):\n",
        "        self.length = l\n",
        "        self.width  = w\n",
        "\n",
        "    def rectangle_area(self):\n",
        "        return self.length*self.width\n",
        "\n",
        "newRectangle = Rectangle()\n",
        "newRectangle.length=20\n",
        "newRectangle.width=5\n",
        "print(newRectangle.rectangle_area())"
      ],
      "execution_count": 2,
      "outputs": [
        {
          "output_type": "stream",
          "name": "stdout",
          "text": [
            "100\n"
          ]
        }
      ]
    },
    {
      "cell_type": "code",
      "metadata": {
        "colab": {
          "base_uri": "https://localhost:8080/"
        },
        "id": "xrBujcgFN1Dg",
        "outputId": "2e9d90e2-00f3-4712-cf07-f29e280141e9"
      },
      "source": [
        "# using default constructor\n",
        "\n",
        "class Area:\n",
        "\n",
        "  def __init__(self):\n",
        "    self.length = 46\n",
        "    self.breadth = 30\n",
        "\n",
        "  def area(self):\n",
        "    print(\"area = \", self.length*self.breadth)\n",
        "\n",
        "obj = Area()\n",
        "obj.area()"
      ],
      "execution_count": 4,
      "outputs": [
        {
          "output_type": "stream",
          "name": "stdout",
          "text": [
            "area =  1380\n"
          ]
        }
      ]
    },
    {
      "cell_type": "code",
      "metadata": {
        "colab": {
          "base_uri": "https://localhost:8080/"
        },
        "id": "5OTiZ1bxK5vw",
        "outputId": "c7550f9d-d408-4de1-8878-8cf13ea9f6fa"
      },
      "source": [
        "#problem 3\n",
        "class Queue:\n",
        "    def __init__(self):\n",
        "        self.queue = []\n",
        "\n",
        "    def isEmpty(self):\n",
        "        return self.queue == []\n",
        "\n",
        "    def enqueue(self, data):\n",
        "        self.queue.append(data)\n",
        "\n",
        "    def dequeue(self):\n",
        "        return self.queue.pop(0)\n",
        "\n",
        "    def displayQueue(self):\n",
        "        print(f\"Queue : {self.queue}\")\n",
        "\n",
        "    def __del__(self):\n",
        "        print(\"Queue deleted\")\n",
        "\n",
        "q = Queue()\n",
        "for i in range(0, 18):\n",
        "    q.enqueue(i)\n",
        "\n",
        "q.displayQueue()\n",
        "\n",
        "for i in range(1, 13):\n",
        "    print(f\"The Value Dequeued : {q.dequeue()}\")\n",
        "\n",
        "q.displayQueue()"
      ],
      "execution_count": 10,
      "outputs": [
        {
          "output_type": "stream",
          "name": "stdout",
          "text": [
            "Queue deleted\n",
            "Queue : [0, 1, 2, 3, 4, 5, 6, 7, 8, 9, 10, 11, 12, 13, 14, 15, 16, 17]\n",
            "The Value Dequeued : 0\n",
            "The Value Dequeued : 1\n",
            "The Value Dequeued : 2\n",
            "The Value Dequeued : 3\n",
            "The Value Dequeued : 4\n",
            "The Value Dequeued : 5\n",
            "The Value Dequeued : 6\n",
            "The Value Dequeued : 7\n",
            "The Value Dequeued : 8\n",
            "The Value Dequeued : 9\n",
            "The Value Dequeued : 10\n",
            "The Value Dequeued : 11\n",
            "Queue : [12, 13, 14, 15, 16, 17]\n"
          ]
        }
      ]
    }
  ]
}